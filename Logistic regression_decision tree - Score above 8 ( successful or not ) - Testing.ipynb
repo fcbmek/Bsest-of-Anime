{
 "cells": [
  {
   "cell_type": "code",
   "execution_count": 1,
   "id": "1ceca6e9",
   "metadata": {},
   "outputs": [],
   "source": [
    "#After adding all the features we iproved from R^2 = 0.43 to R^2 = 0.49"
   ]
  },
  {
   "cell_type": "code",
   "execution_count": 2,
   "id": "b356241b",
   "metadata": {},
   "outputs": [],
   "source": [
    "# imports \n",
    "import numpy as np\n",
    "import pandas as pd\n",
    "from sklearn import linear_model\n",
    "from sklearn.metrics import r2_score, mean_squared_error\n",
    "from sklearn.linear_model import LinearRegression\n",
    "from sklearn.model_selection import train_test_split\n",
    "from sklearn.ensemble import RandomForestClassifier\n",
    "from sklearn.linear_model import LogisticRegression\n",
    "from sklearn.tree import DecisionTreeClassifier\n",
    "from sklearn.metrics import accuracy_score\n",
    "from sklearn.preprocessing import StandardScaler\n",
    "import seaborn as sns\n",
    "pd.set_option('display.float_format', '{:.2f}'.format)\n",
    "\n",
    "\n",
    "import matplotlib.pyplot as plt\n",
    "%matplotlib inline  \n"
   ]
  },
  {
   "cell_type": "code",
   "execution_count": 3,
   "id": "940a8b48",
   "metadata": {},
   "outputs": [],
   "source": [
    "#reading the csv and select to columns from the modle\n",
    "Anime_df = pd.read_csv(\"ML_Df.csv\")\n",
    "Score_Above_8 = Anime_df.copy()"
   ]
  },
  {
   "cell_type": "code",
   "execution_count": 4,
   "id": "2db246a9",
   "metadata": {},
   "outputs": [
    {
     "data": {
      "text/plain": [
       "0      193718.00\n",
       "1       13321.00\n",
       "2       47486.00\n",
       "3      164108.00\n",
       "4       13965.00\n",
       "          ...   \n",
       "5554        1.00\n",
       "5555        0.00\n",
       "5556        0.00\n",
       "5557        1.00\n",
       "5558        0.00\n",
       "Name: Favorites, Length: 5559, dtype: float64"
      ]
     },
     "execution_count": 4,
     "metadata": {},
     "output_type": "execute_result"
    }
   ],
   "source": [
    "Score_Above_8.Favorites"
   ]
  },
  {
   "cell_type": "code",
   "execution_count": 5,
   "id": "fcb944d2",
   "metadata": {},
   "outputs": [],
   "source": [
    "##loop for catigorazing the score\n",
    "#for i in range (Score_Above_8.shape[0]):\n",
    "#    if Score_Above_8.iloc[i,0] >= 8:\n",
    "#        Score_Above_8.iloc[i,0] = \"Sucsseful\"\n",
    "#    elif 6 <= Score_Above_8.iloc[i,0] <= 8:\n",
    "#        Score_Above_8.iloc[i,0] = \"Mid Succes \"\n",
    "#    else:\n",
    "#        Score_Above_8.iloc[i,0] = \"Not Sucssesful\"\n",
    "#        "
   ]
  },
  {
   "cell_type": "code",
   "execution_count": 6,
   "id": "712a4dab",
   "metadata": {},
   "outputs": [],
   "source": [
    "for i in range (Score_Above_8.shape[0]):\n",
    "    if Score_Above_8.iloc[i,0] >= 8:\n",
    "        Score_Above_8.iloc[i,0] = \"Sucsseful\"\n",
    "    else:\n",
    "        Score_Above_8.iloc[i,0] = \"Not Sucssesful\""
   ]
  },
  {
   "cell_type": "code",
   "execution_count": 7,
   "id": "1ba6d298",
   "metadata": {},
   "outputs": [],
   "source": [
    "test_df = pd.get_dummies(Score_Above_8, \"Score\")\n",
    "#test_df.to_csv(\"ML_Tree_with_Dummies.csv\", index = False)"
   ]
  },
  {
   "cell_type": "code",
   "execution_count": 8,
   "id": "313c1b1d",
   "metadata": {},
   "outputs": [
    {
     "data": {
      "text/plain": [
       "<AxesSubplot:xlabel='Favorites', ylabel='Score'>"
      ]
     },
     "execution_count": 8,
     "metadata": {},
     "output_type": "execute_result"
    },
    {
     "data": {
      "image/png": "[encoded data removed]",
      "text/plain": [
       "<Figure size 432x288 with 1 Axes>"
      ]
     },
     "metadata": {
      "needs_background": "light"
     },
     "output_type": "display_data"
    }
   ],
   "source": [
    "Score_Above_8.plot.scatter(x='Favorites',y='Score',s=30)"
   ]
  },
  {
   "cell_type": "code",
   "execution_count": 9,
   "id": "494c94ca",
   "metadata": {},
   "outputs": [
    {
     "data": {
      "text/plain": [
       "array(['Sucsseful', 'Not Sucssesful'], dtype=object)"
      ]
     },
     "execution_count": 9,
     "metadata": {},
     "output_type": "execute_result"
    }
   ],
   "source": [
    "Score_Above_8.Score.unique()"
   ]
  },
  {
   "cell_type": "code",
   "execution_count": 10,
   "id": "d2c52794",
   "metadata": {},
   "outputs": [],
   "source": [
    "TRAINING_FEATURES = Score_Above_8[Score_Above_8.columns.difference([\"Score\"])]\n",
    "\n",
    "TARGET_FEATURE    = 'Score'\n",
    "\n",
    "X = TRAINING_FEATURES\n",
    "y = Score_Above_8[TARGET_FEATURE]"
   ]
  },
  {
   "cell_type": "code",
   "execution_count": 11,
   "id": "dc68ef0d",
   "metadata": {},
   "outputs": [],
   "source": [
    "X_train, X_test, y_train, y_test = train_test_split(X, y, random_state=1, test_size = 0.25)"
   ]
  },
  {
   "cell_type": "code",
   "execution_count": 12,
   "id": "a37d4a63",
   "metadata": {},
   "outputs": [
    {
     "data": {
      "text/html": [
       "<div>\n",
       "<style scoped>\n",
       "    .dataframe tbody tr th:only-of-type {\n",
       "        vertical-align: middle;\n",
       "    }\n",
       "\n",
       "    .dataframe tbody tr th {\n",
       "        vertical-align: top;\n",
       "    }\n",
       "\n",
       "    .dataframe thead th {\n",
       "        text-align: right;\n",
       "    }\n",
       "</style>\n",
       "<table border=\"1\" class=\"dataframe\">\n",
       "  <thead>\n",
       "    <tr style=\"text-align: right;\">\n",
       "      <th></th>\n",
       "      <th>Score</th>\n",
       "      <th>Rank</th>\n",
       "      <th>Scored_By</th>\n",
       "      <th>Episodes</th>\n",
       "      <th>Duration</th>\n",
       "      <th>Popularity</th>\n",
       "      <th>Members</th>\n",
       "      <th>Favorites</th>\n",
       "    </tr>\n",
       "  </thead>\n",
       "  <tbody>\n",
       "    <tr>\n",
       "      <th>0</th>\n",
       "      <td>Sucsseful</td>\n",
       "      <td>1.00</td>\n",
       "      <td>1674539.00</td>\n",
       "      <td>64.00</td>\n",
       "      <td>24.00</td>\n",
       "      <td>3.00</td>\n",
       "      <td>2753439.00</td>\n",
       "      <td>193718.00</td>\n",
       "    </tr>\n",
       "    <tr>\n",
       "      <th>1</th>\n",
       "      <td>Sucsseful</td>\n",
       "      <td>2.00</td>\n",
       "      <td>175304.00</td>\n",
       "      <td>51.00</td>\n",
       "      <td>24.00</td>\n",
       "      <td>339.00</td>\n",
       "      <td>502351.00</td>\n",
       "      <td>13321.00</td>\n",
       "    </tr>\n",
       "    <tr>\n",
       "      <th>2</th>\n",
       "      <td>Sucsseful</td>\n",
       "      <td>3.00</td>\n",
       "      <td>1142680.00</td>\n",
       "      <td>10.00</td>\n",
       "      <td>23.00</td>\n",
       "      <td>33.00</td>\n",
       "      <td>1683363.00</td>\n",
       "      <td>47486.00</td>\n",
       "    </tr>\n",
       "    <tr>\n",
       "      <th>3</th>\n",
       "      <td>Sucsseful</td>\n",
       "      <td>4.00</td>\n",
       "      <td>1131835.00</td>\n",
       "      <td>24.00</td>\n",
       "      <td>24.00</td>\n",
       "      <td>13.00</td>\n",
       "      <td>2144169.00</td>\n",
       "      <td>164108.00</td>\n",
       "    </tr>\n",
       "    <tr>\n",
       "      <th>4</th>\n",
       "      <td>Sucsseful</td>\n",
       "      <td>5.00</td>\n",
       "      <td>128247.00</td>\n",
       "      <td>13.00</td>\n",
       "      <td>23.00</td>\n",
       "      <td>609.00</td>\n",
       "      <td>302846.00</td>\n",
       "      <td>13965.00</td>\n",
       "    </tr>\n",
       "    <tr>\n",
       "      <th>...</th>\n",
       "      <td>...</td>\n",
       "      <td>...</td>\n",
       "      <td>...</td>\n",
       "      <td>...</td>\n",
       "      <td>...</td>\n",
       "      <td>...</td>\n",
       "      <td>...</td>\n",
       "      <td>...</td>\n",
       "    </tr>\n",
       "    <tr>\n",
       "      <th>5554</th>\n",
       "      <td>Not Sucssesful</td>\n",
       "      <td>17408.00</td>\n",
       "      <td>69593.15</td>\n",
       "      <td>35.17</td>\n",
       "      <td>19.30</td>\n",
       "      <td>15611.00</td>\n",
       "      <td>246.00</td>\n",
       "      <td>1.00</td>\n",
       "    </tr>\n",
       "    <tr>\n",
       "      <th>5555</th>\n",
       "      <td>Not Sucssesful</td>\n",
       "      <td>17419.00</td>\n",
       "      <td>69593.15</td>\n",
       "      <td>35.17</td>\n",
       "      <td>19.30</td>\n",
       "      <td>18569.00</td>\n",
       "      <td>45.00</td>\n",
       "      <td>0.00</td>\n",
       "    </tr>\n",
       "    <tr>\n",
       "      <th>5556</th>\n",
       "      <td>Not Sucssesful</td>\n",
       "      <td>17421.00</td>\n",
       "      <td>69593.15</td>\n",
       "      <td>35.17</td>\n",
       "      <td>19.30</td>\n",
       "      <td>13668.00</td>\n",
       "      <td>410.00</td>\n",
       "      <td>0.00</td>\n",
       "    </tr>\n",
       "    <tr>\n",
       "      <th>5557</th>\n",
       "      <td>Not Sucssesful</td>\n",
       "      <td>17423.00</td>\n",
       "      <td>69593.15</td>\n",
       "      <td>35.17</td>\n",
       "      <td>19.30</td>\n",
       "      <td>12617.00</td>\n",
       "      <td>605.00</td>\n",
       "      <td>1.00</td>\n",
       "    </tr>\n",
       "    <tr>\n",
       "      <th>5558</th>\n",
       "      <td>Not Sucssesful</td>\n",
       "      <td>17425.00</td>\n",
       "      <td>69593.15</td>\n",
       "      <td>35.17</td>\n",
       "      <td>19.30</td>\n",
       "      <td>16451.00</td>\n",
       "      <td>191.00</td>\n",
       "      <td>0.00</td>\n",
       "    </tr>\n",
       "  </tbody>\n",
       "</table>\n",
       "<p>5559 rows × 8 columns</p>\n",
       "</div>"
      ],
      "text/plain": [
       "               Score     Rank  Scored_By  Episodes  Duration  Popularity  \\\n",
       "0          Sucsseful     1.00 1674539.00     64.00     24.00        3.00   \n",
       "1          Sucsseful     2.00  175304.00     51.00     24.00      339.00   \n",
       "2          Sucsseful     3.00 1142680.00     10.00     23.00       33.00   \n",
       "3          Sucsseful     4.00 1131835.00     24.00     24.00       13.00   \n",
       "4          Sucsseful     5.00  128247.00     13.00     23.00      609.00   \n",
       "...              ...      ...        ...       ...       ...         ...   \n",
       "5554  Not Sucssesful 17408.00   69593.15     35.17     19.30    15611.00   \n",
       "5555  Not Sucssesful 17419.00   69593.15     35.17     19.30    18569.00   \n",
       "5556  Not Sucssesful 17421.00   69593.15     35.17     19.30    13668.00   \n",
       "5557  Not Sucssesful 17423.00   69593.15     35.17     19.30    12617.00   \n",
       "5558  Not Sucssesful 17425.00   69593.15     35.17     19.30    16451.00   \n",
       "\n",
       "        Members  Favorites  \n",
       "0    2753439.00  193718.00  \n",
       "1     502351.00   13321.00  \n",
       "2    1683363.00   47486.00  \n",
       "3    2144169.00  164108.00  \n",
       "4     302846.00   13965.00  \n",
       "...         ...        ...  \n",
       "5554     246.00       1.00  \n",
       "5555      45.00       0.00  \n",
       "5556     410.00       0.00  \n",
       "5557     605.00       1.00  \n",
       "5558     191.00       0.00  \n",
       "\n",
       "[5559 rows x 8 columns]"
      ]
     },
     "execution_count": 12,
     "metadata": {},
     "output_type": "execute_result"
    }
   ],
   "source": [
    "Score_Above_8 = Score_Above_8[[\"Score\", \"Rank\", \"Scored_By\", \"Episodes\", \"Duration\", \"Popularity\", \"Members\", \"Favorites\"]]\n",
    "Score_Above_8"
   ]
  },
  {
   "cell_type": "code",
   "execution_count": 13,
   "id": "dc0352bc",
   "metadata": {},
   "outputs": [
    {
     "name": "stdout",
     "output_type": "stream",
     "text": [
      "Number of Rows, Features in Training Dataset: (4169, 40)\n",
      "Number of Rows, Features in Test Dataset: (1390, 40)\n",
      "Number of Rows in Training Response: (4169,)\n",
      "Number of Rows in Test Response: (1390,)\n"
     ]
    }
   ],
   "source": [
    "print(f\"Number of Rows, Features in Training Dataset: {X_train.shape}\")\n",
    "print(f\"Number of Rows, Features in Test Dataset: {X_test.shape}\")\n",
    "\n",
    "print(f\"Number of Rows in Training Response: {y_train.shape}\")\n",
    "print(f\"Number of Rows in Test Response: {y_test.shape}\")"
   ]
  },
  {
   "cell_type": "code",
   "execution_count": 14,
   "id": "26ec453c",
   "metadata": {},
   "outputs": [
    {
     "name": "stdout",
     "output_type": "stream",
     "text": [
      "['Not Sucssesful' 'Sucsseful']\n",
      "LogisticRegression Accuracy train Score: 0.9865675221875749\n"
     ]
    },
    {
     "name": "stderr",
     "output_type": "stream",
     "text": [
      "C:\\Anaconda3\\lib\\site-packages\\sklearn\\linear_model\\_logistic.py:763: ConvergenceWarning: lbfgs failed to converge (status=1):\n",
      "STOP: TOTAL NO. of ITERATIONS REACHED LIMIT.\n",
      "\n",
      "Increase the number of iterations (max_iter) or scale the data as shown in:\n",
      "    https://scikit-learn.org/stable/modules/preprocessing.html\n",
      "Please also refer to the documentation for alternative solver options:\n",
      "    https://scikit-learn.org/stable/modules/linear_model.html#logistic-regression\n",
      "  n_iter_i = _check_optimize_result(\n"
     ]
    }
   ],
   "source": [
    "lrm = LogisticRegression()\n",
    "\n",
    "# Get accuracy using train set\n",
    "lrm.fit(X_train, y_train)\n",
    "\n",
    "print(lrm.classes_)\n",
    "print(f\"LogisticRegression Accuracy train Score: {lrm.score(X_train, y_train)}\")"
   ]
  },
  {
   "cell_type": "code",
   "execution_count": 15,
   "id": "93d7bd7d",
   "metadata": {},
   "outputs": [
    {
     "name": "stdout",
     "output_type": "stream",
     "text": [
      "LogisticRegression Accuracy test Score: 0.9848920863309353\n"
     ]
    }
   ],
   "source": [
    "# Get accuracy using test set\n",
    "y_pred = lrm.predict(X_test)\n",
    "\n",
    "print(f\"LogisticRegression Accuracy test Score: {np.mean(y_pred == y_test)}\")"
   ]
  },
  {
   "cell_type": "code",
   "execution_count": 16,
   "id": "4cfd8646",
   "metadata": {},
   "outputs": [],
   "source": [
    "import numpy as np\n",
    "from sklearn import metrics\n",
    "from sklearn.model_selection import train_test_split\n",
    "from sklearn.naive_bayes import GaussianNB\n",
    "import pandas as pd\n",
    "\n",
    "import matplotlib.pyplot as plt\n",
    "from matplotlib.colors import ListedColormap\n",
    "%matplotlib inline"
   ]
  },
  {
   "cell_type": "code",
   "execution_count": 17,
   "id": "8abebff3",
   "metadata": {},
   "outputs": [
    {
     "data": {
      "text/html": [
       "<div>\n",
       "<style scoped>\n",
       "    .dataframe tbody tr th:only-of-type {\n",
       "        vertical-align: middle;\n",
       "    }\n",
       "\n",
       "    .dataframe tbody tr th {\n",
       "        vertical-align: top;\n",
       "    }\n",
       "\n",
       "    .dataframe thead th {\n",
       "        text-align: right;\n",
       "    }\n",
       "</style>\n",
       "<table border=\"1\" class=\"dataframe\">\n",
       "  <thead>\n",
       "    <tr style=\"text-align: right;\">\n",
       "      <th></th>\n",
       "      <th>Score</th>\n",
       "      <th>Rank</th>\n",
       "      <th>Scored_By</th>\n",
       "      <th>Episodes</th>\n",
       "      <th>Duration</th>\n",
       "      <th>Popularity</th>\n",
       "      <th>Members</th>\n",
       "      <th>Favorites</th>\n",
       "    </tr>\n",
       "  </thead>\n",
       "  <tbody>\n",
       "    <tr>\n",
       "      <th>0</th>\n",
       "      <td>Sucsseful</td>\n",
       "      <td>1.00</td>\n",
       "      <td>1674539.00</td>\n",
       "      <td>64.00</td>\n",
       "      <td>24.00</td>\n",
       "      <td>3.00</td>\n",
       "      <td>2753439.00</td>\n",
       "      <td>193718.00</td>\n",
       "    </tr>\n",
       "    <tr>\n",
       "      <th>1</th>\n",
       "      <td>Sucsseful</td>\n",
       "      <td>2.00</td>\n",
       "      <td>175304.00</td>\n",
       "      <td>51.00</td>\n",
       "      <td>24.00</td>\n",
       "      <td>339.00</td>\n",
       "      <td>502351.00</td>\n",
       "      <td>13321.00</td>\n",
       "    </tr>\n",
       "    <tr>\n",
       "      <th>2</th>\n",
       "      <td>Sucsseful</td>\n",
       "      <td>3.00</td>\n",
       "      <td>1142680.00</td>\n",
       "      <td>10.00</td>\n",
       "      <td>23.00</td>\n",
       "      <td>33.00</td>\n",
       "      <td>1683363.00</td>\n",
       "      <td>47486.00</td>\n",
       "    </tr>\n",
       "    <tr>\n",
       "      <th>3</th>\n",
       "      <td>Sucsseful</td>\n",
       "      <td>4.00</td>\n",
       "      <td>1131835.00</td>\n",
       "      <td>24.00</td>\n",
       "      <td>24.00</td>\n",
       "      <td>13.00</td>\n",
       "      <td>2144169.00</td>\n",
       "      <td>164108.00</td>\n",
       "    </tr>\n",
       "    <tr>\n",
       "      <th>4</th>\n",
       "      <td>Sucsseful</td>\n",
       "      <td>5.00</td>\n",
       "      <td>128247.00</td>\n",
       "      <td>13.00</td>\n",
       "      <td>23.00</td>\n",
       "      <td>609.00</td>\n",
       "      <td>302846.00</td>\n",
       "      <td>13965.00</td>\n",
       "    </tr>\n",
       "    <tr>\n",
       "      <th>...</th>\n",
       "      <td>...</td>\n",
       "      <td>...</td>\n",
       "      <td>...</td>\n",
       "      <td>...</td>\n",
       "      <td>...</td>\n",
       "      <td>...</td>\n",
       "      <td>...</td>\n",
       "      <td>...</td>\n",
       "    </tr>\n",
       "    <tr>\n",
       "      <th>5554</th>\n",
       "      <td>Not Sucssesful</td>\n",
       "      <td>17408.00</td>\n",
       "      <td>69593.15</td>\n",
       "      <td>35.17</td>\n",
       "      <td>19.30</td>\n",
       "      <td>15611.00</td>\n",
       "      <td>246.00</td>\n",
       "      <td>1.00</td>\n",
       "    </tr>\n",
       "    <tr>\n",
       "      <th>5555</th>\n",
       "      <td>Not Sucssesful</td>\n",
       "      <td>17419.00</td>\n",
       "      <td>69593.15</td>\n",
       "      <td>35.17</td>\n",
       "      <td>19.30</td>\n",
       "      <td>18569.00</td>\n",
       "      <td>45.00</td>\n",
       "      <td>0.00</td>\n",
       "    </tr>\n",
       "    <tr>\n",
       "      <th>5556</th>\n",
       "      <td>Not Sucssesful</td>\n",
       "      <td>17421.00</td>\n",
       "      <td>69593.15</td>\n",
       "      <td>35.17</td>\n",
       "      <td>19.30</td>\n",
       "      <td>13668.00</td>\n",
       "      <td>410.00</td>\n",
       "      <td>0.00</td>\n",
       "    </tr>\n",
       "    <tr>\n",
       "      <th>5557</th>\n",
       "      <td>Not Sucssesful</td>\n",
       "      <td>17423.00</td>\n",
       "      <td>69593.15</td>\n",
       "      <td>35.17</td>\n",
       "      <td>19.30</td>\n",
       "      <td>12617.00</td>\n",
       "      <td>605.00</td>\n",
       "      <td>1.00</td>\n",
       "    </tr>\n",
       "    <tr>\n",
       "      <th>5558</th>\n",
       "      <td>Not Sucssesful</td>\n",
       "      <td>17425.00</td>\n",
       "      <td>69593.15</td>\n",
       "      <td>35.17</td>\n",
       "      <td>19.30</td>\n",
       "      <td>16451.00</td>\n",
       "      <td>191.00</td>\n",
       "      <td>0.00</td>\n",
       "    </tr>\n",
       "  </tbody>\n",
       "</table>\n",
       "<p>5559 rows × 8 columns</p>\n",
       "</div>"
      ],
      "text/plain": [
       "               Score     Rank  Scored_By  Episodes  Duration  Popularity  \\\n",
       "0          Sucsseful     1.00 1674539.00     64.00     24.00        3.00   \n",
       "1          Sucsseful     2.00  175304.00     51.00     24.00      339.00   \n",
       "2          Sucsseful     3.00 1142680.00     10.00     23.00       33.00   \n",
       "3          Sucsseful     4.00 1131835.00     24.00     24.00       13.00   \n",
       "4          Sucsseful     5.00  128247.00     13.00     23.00      609.00   \n",
       "...              ...      ...        ...       ...       ...         ...   \n",
       "5554  Not Sucssesful 17408.00   69593.15     35.17     19.30    15611.00   \n",
       "5555  Not Sucssesful 17419.00   69593.15     35.17     19.30    18569.00   \n",
       "5556  Not Sucssesful 17421.00   69593.15     35.17     19.30    13668.00   \n",
       "5557  Not Sucssesful 17423.00   69593.15     35.17     19.30    12617.00   \n",
       "5558  Not Sucssesful 17425.00   69593.15     35.17     19.30    16451.00   \n",
       "\n",
       "        Members  Favorites  \n",
       "0    2753439.00  193718.00  \n",
       "1     502351.00   13321.00  \n",
       "2    1683363.00   47486.00  \n",
       "3    2144169.00  164108.00  \n",
       "4     302846.00   13965.00  \n",
       "...         ...        ...  \n",
       "5554     246.00       1.00  \n",
       "5555      45.00       0.00  \n",
       "5556     410.00       0.00  \n",
       "5557     605.00       1.00  \n",
       "5558     191.00       0.00  \n",
       "\n",
       "[5559 rows x 8 columns]"
      ]
     },
     "execution_count": 17,
     "metadata": {},
     "output_type": "execute_result"
    }
   ],
   "source": [
    "Score_Above_8"
   ]
  },
  {
   "cell_type": "code",
   "execution_count": 18,
   "id": "d9ef794d",
   "metadata": {},
   "outputs": [],
   "source": [
    "#Naive Base\n",
    "# Split into training and test sets\n",
    "X = Score_Above_8.iloc[:,1:].values\n",
    "y = Score_Above_8[\"Score\"].values\n",
    "\n",
    "XTrain, XTest, yTrain, yTest = train_test_split(X, y, random_state=1, test_size=0.25)\n",
    "#titanic_predictors"
   ]
  },
  {
   "cell_type": "code",
   "execution_count": 19,
   "id": "13cfc8c6",
   "metadata": {},
   "outputs": [
    {
     "name": "stdout",
     "output_type": "stream",
     "text": [
      "Accuracy on Train data=  0.9489086111777405\n",
      "Accuracy on test data=  0.9546762589928057\n"
     ]
    }
   ],
   "source": [
    "# Instantiate the classifier\n",
    "gnb = GaussianNB()\n",
    "\n",
    "\n",
    "# Train classifier\n",
    "gnb.fit(XTrain,yTrain)\n",
    "\n",
    "y_pred = gnb.predict(XTest)\n",
    "y_pred_train = gnb.predict(XTrain)\n",
    "\n",
    "# Print results\n",
    "print('Accuracy on Train data= ', metrics.accuracy_score(y_true = yTrain, y_pred = y_pred_train))\n",
    "print('Accuracy on test data= ', metrics.accuracy_score(y_true = yTest, y_pred = y_pred))"
   ]
  },
  {
   "cell_type": "code",
   "execution_count": 20,
   "id": "45761c90",
   "metadata": {},
   "outputs": [
    {
     "data": {
      "text/plain": [
       "array([0.94195251, 0.05804749])"
      ]
     },
     "execution_count": 20,
     "metadata": {},
     "output_type": "execute_result"
    }
   ],
   "source": [
    "# get the class probabilities\n",
    "gnb.class_prior_"
   ]
  },
  {
   "cell_type": "code",
   "execution_count": 21,
   "id": "bc921bf3",
   "metadata": {},
   "outputs": [
    {
     "data": {
      "text/plain": [
       "array([[7.56808579e+03, 5.46759063e+04, 3.56995792e+01, 1.91265592e+01,\n",
       "        7.72817214e+03, 7.46851966e+04, 5.61241151e+02],\n",
       "       [3.00539605e+02, 3.28706603e+05, 2.78808866e+01, 2.37656861e+01,\n",
       "        8.07466942e+02, 6.07471653e+05, 1.54589711e+04]])"
      ]
     },
     "execution_count": 21,
     "metadata": {},
     "output_type": "execute_result"
    }
   ],
   "source": [
    "gnb.theta_"
   ]
  },
  {
   "cell_type": "code",
   "execution_count": 22,
   "id": "1e631af0",
   "metadata": {},
   "outputs": [
    {
     "data": {
      "text/plain": [
       "array([[2.42210706e+07, 1.02668078e+10, 7.56044743e+03, 1.33969932e+02,\n",
       "        3.62665998e+07, 3.34033219e+10, 7.31347007e+06],\n",
       "       [2.20396417e+05, 1.41366630e+11, 1.79027203e+03, 7.35976474e+01,\n",
       "        9.37099612e+05, 3.49766639e+11, 6.83318894e+08]])"
      ]
     },
     "execution_count": 22,
     "metadata": {},
     "output_type": "execute_result"
    }
   ],
   "source": [
    "gnb.sigma_"
   ]
  },
  {
   "cell_type": "code",
   "execution_count": 23,
   "id": "c88f61b8",
   "metadata": {},
   "outputs": [],
   "source": [
    "import numpy as np\n",
    "from sklearn import metrics\n",
    "from sklearn.model_selection import train_test_split\n",
    "from sklearn import tree\n",
    "from sklearn.ensemble import RandomForestClassifier\n",
    "import pandas as pd\n",
    "\n",
    "import matplotlib.pyplot as plt\n",
    "from matplotlib.colors import ListedColormap\n",
    "%matplotlib inline\n",
    "\n",
    "##TREE\n",
    "\n"
   ]
  },
  {
   "cell_type": "code",
   "execution_count": 24,
   "id": "9d3eea53",
   "metadata": {},
   "outputs": [],
   "source": [
    "##trying with decision tree##"
   ]
  },
  {
   "cell_type": "code",
   "execution_count": 25,
   "id": "3e706724",
   "metadata": {},
   "outputs": [],
   "source": [
    "decisionTree = tree.DecisionTreeClassifier()"
   ]
  },
  {
   "cell_type": "code",
   "execution_count": 26,
   "id": "c06b0985",
   "metadata": {},
   "outputs": [],
   "source": [
    "TRAINING_FEATURES = Score_Above_8[Score_Above_8.columns.difference([\"Score\"])]\n",
    "\n",
    "TARGET_FEATURE    = 'Score'\n",
    "\n",
    "X = TRAINING_FEATURES\n",
    "y = Score_Above_8[TARGET_FEATURE]"
   ]
  },
  {
   "cell_type": "code",
   "execution_count": 27,
   "id": "ab09ac03",
   "metadata": {},
   "outputs": [],
   "source": [
    "X_train, X_test, y_train, y_test = train_test_split(X, y, random_state=1, test_size=0.5)"
   ]
  },
  {
   "cell_type": "code",
   "execution_count": 28,
   "id": "1350e4a8",
   "metadata": {},
   "outputs": [
    {
     "name": "stdout",
     "output_type": "stream",
     "text": [
      "Training accuracy for RandomForest:  1.0\n",
      "Wall time: 776 ms\n"
     ]
    }
   ],
   "source": [
    "%%time\n",
    "from sklearn.ensemble import RandomForestClassifier\n",
    "# Do random forest\n",
    "rf = RandomForestClassifier(bootstrap= True, n_estimators=300, random_state=0)\n",
    "trained_forest = rf.fit(X_train, y_train)\n",
    "# Train accuracy\n",
    "tra_score=rf.score(X, y)\n",
    "\n",
    "print(\"Training accuracy for RandomForest: \",tra_score)"
   ]
  },
  {
   "cell_type": "code",
   "execution_count": 29,
   "id": "87f07d53",
   "metadata": {},
   "outputs": [
    {
     "name": "stdout",
     "output_type": "stream",
     "text": [
      "Accuracy on training data=  1.0\n",
      "Accuracy on test data=  1.0\n",
      "Wall time: 157 ms\n"
     ]
    }
   ],
   "source": [
    "%%time\n",
    "y_pred_train = trained_forest.predict(X_train)\n",
    "print('Accuracy on training data= ', metrics.accuracy_score(y_true = y_train, y_pred = y_pred_train))\n",
    "\n",
    "y_pred = trained_forest.predict(X_test)\n",
    "print('Accuracy on test data= ', metrics.accuracy_score(y_true = y_test, y_pred = y_pred))"
   ]
  },
  {
   "cell_type": "code",
   "execution_count": 30,
   "id": "c39ab08b",
   "metadata": {},
   "outputs": [
    {
     "name": "stdout",
     "output_type": "stream",
     "text": [
      "best parameter set is: {'max_depth': 2, 'min_samples_split': 5}  and its score was 0.9992802876546302\n"
     ]
    }
   ],
   "source": [
    "from sklearn.model_selection import GridSearchCV\n",
    "from sklearn.metrics import make_scorer\n",
    "\n",
    "parameters = {'max_depth':[2,4,6,8],\"min_samples_split\":[5,10,20,25,50] }\n",
    "dt = tree.DecisionTreeClassifier()\n",
    "\n",
    "clf = GridSearchCV(dt, parameters,scoring=make_scorer(metrics.accuracy_score, greater_is_better=True))\n",
    "clf.fit(XTrain, yTrain)\n",
    "\n",
    "print(\"best parameter set is:\",clf.best_params_,\" and its score was\",clf.best_score_)"
   ]
  },
  {
   "cell_type": "code",
   "execution_count": 31,
   "id": "7fe498db",
   "metadata": {},
   "outputs": [
    {
     "data": {
      "text/html": [
       "<div>\n",
       "<style scoped>\n",
       "    .dataframe tbody tr th:only-of-type {\n",
       "        vertical-align: middle;\n",
       "    }\n",
       "\n",
       "    .dataframe tbody tr th {\n",
       "        vertical-align: top;\n",
       "    }\n",
       "\n",
       "    .dataframe thead th {\n",
       "        text-align: right;\n",
       "    }\n",
       "</style>\n",
       "<table border=\"1\" class=\"dataframe\">\n",
       "  <thead>\n",
       "    <tr style=\"text-align: right;\">\n",
       "      <th></th>\n",
       "      <th>features</th>\n",
       "      <th>weights</th>\n",
       "    </tr>\n",
       "  </thead>\n",
       "  <tbody>\n",
       "    <tr>\n",
       "      <th>5</th>\n",
       "      <td>Members</td>\n",
       "      <td>0.66</td>\n",
       "    </tr>\n",
       "    <tr>\n",
       "      <th>2</th>\n",
       "      <td>Episodes</td>\n",
       "      <td>0.16</td>\n",
       "    </tr>\n",
       "    <tr>\n",
       "      <th>3</th>\n",
       "      <td>Duration</td>\n",
       "      <td>0.07</td>\n",
       "    </tr>\n",
       "    <tr>\n",
       "      <th>4</th>\n",
       "      <td>Popularity</td>\n",
       "      <td>0.05</td>\n",
       "    </tr>\n",
       "    <tr>\n",
       "      <th>6</th>\n",
       "      <td>Favorites</td>\n",
       "      <td>0.04</td>\n",
       "    </tr>\n",
       "    <tr>\n",
       "      <th>1</th>\n",
       "      <td>Scored_By</td>\n",
       "      <td>0.01</td>\n",
       "    </tr>\n",
       "    <tr>\n",
       "      <th>0</th>\n",
       "      <td>Rank</td>\n",
       "      <td>0.01</td>\n",
       "    </tr>\n",
       "  </tbody>\n",
       "</table>\n",
       "</div>"
      ],
      "text/plain": [
       "     features  weights\n",
       "5     Members     0.66\n",
       "2    Episodes     0.16\n",
       "3    Duration     0.07\n",
       "4  Popularity     0.05\n",
       "6   Favorites     0.04\n",
       "1   Scored_By     0.01\n",
       "0        Rank     0.01"
      ]
     },
     "execution_count": 31,
     "metadata": {},
     "output_type": "execute_result"
    }
   ],
   "source": [
    "all_features = [ \"Rank\", \"Scored_By\", \"Episodes\", \"Duration\", \"Popularity\", \"Members\", \"Favorites\"]\n",
    "featuresDF=pd.DataFrame({\"features\":all_features,\"weights\":trained_forest.feature_importances_})\n",
    "featuresDF.sort_values(\"weights\",ascending=False)"
   ]
  }
 ],
 "metadata": {
  "kernelspec": {
   "display_name": "Python 3 (ipykernel)",
   "language": "python",
   "name": "python3"
  },
  "language_info": {
   "codemirror_mode": {
    "name": "ipython",
    "version": 3
   },
   "file_extension": ".py",
   "mimetype": "text/x-python",
   "name": "python",
   "nbconvert_exporter": "python",
   "pygments_lexer": "ipython3",
   "version": "3.9.7"
  }
 },
 "nbformat": 4,
 "nbformat_minor": 5
}
