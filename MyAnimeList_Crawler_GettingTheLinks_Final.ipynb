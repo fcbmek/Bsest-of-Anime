{
 "cells": [
  {
   "cell_type": "code",
   "execution_count": null,
   "id": "0b1ebac0",
   "metadata": {},
   "outputs": [],
   "source": [
    "#Importing Packages#\n",
    "import requests\n",
    "import pandas as pd\n",
    "import bs4\n",
    "from bs4 import BeautifulSoup as bs  \n",
    "import scipy as sc\n",
    "import numpy as np"
   ]
  },
  {
   "cell_type": "code",
   "execution_count": null,
   "id": "4be16b25",
   "metadata": {},
   "outputs": [],
   "source": [
    "#####Generating the Valid links to the Animes#####\n",
    "\n",
    "link = \"https://myanimelist.net/topanime.php?type=tv\"\n",
    "html = requests.get(link)\n",
    "My_Anime_List_Valid_Link = list()\n",
    "Anime_Page_Range = list()\n",
    "i=0\n",
    "while html.status_code != 404:\n",
    "    #print(link+\"&limit=\"+str(i*50))\n",
    "    #print(str(i*50)+\"-\"+str((i+1)*50))\n",
    "    Anime_Page_Range.append(str(i*50)+\"-\"+str((i+1)*50))\n",
    "    My_Anime_List_Valid_Link.append(link+\"&limit=\"+str(i*50))\n",
    "    html = requests.get(link+\"&limit=\"+str(i*50))\n",
    "    i=i+1\n",
    "    \n",
    "Valid_Links_df = pd.DataFrame({\"Page_Range\":Anime_Page_Range,\"Valid_Links\":My_Anime_List_Valid_Link})\n",
    "Valid_Links_df\n"
   ]
  },
  {
   "cell_type": "code",
   "execution_count": null,
   "id": "7e76f8b0",
   "metadata": {},
   "outputs": [],
   "source": [
    "###in this dataframe we will have all the anime names and links to the anime page###\n",
    "\n",
    "Valid_Links_df.to_csv('MyAnimeList_Valid_Links_df.csv', index=False)"
   ]
  }
 ],
 "metadata": {
  "kernelspec": {
   "display_name": "Python 3",
   "language": "python",
   "name": "python3"
  },
  "language_info": {
   "codemirror_mode": {
    "name": "ipython",
    "version": 3
   },
   "file_extension": ".py",
   "mimetype": "text/x-python",
   "name": "python",
   "nbconvert_exporter": "python",
   "pygments_lexer": "ipython3",
   "version": "3.8.8"
  }
 },
 "nbformat": 4,
 "nbformat_minor": 5
}
