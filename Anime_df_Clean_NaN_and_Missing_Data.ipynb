{
 "cells": [
  {
   "cell_type": "code",
   "execution_count": 1,
   "id": "69e72580",
   "metadata": {},
   "outputs": [],
   "source": [
    "###fixing columns names & sorting columns\n",
    "###cleaning nulls and converting from strings to floats etc'\n",
    "###dropping unnecessary columns"
   ]
  },
  {
   "cell_type": "code",
   "execution_count": 2,
   "id": "8c5366fe",
   "metadata": {},
   "outputs": [],
   "source": [
    "import pandas as pd\n",
    "import numpy as np\n",
    "import warnings\n",
    "warnings.filterwarnings('ignore')"
   ]
  },
  {
   "cell_type": "code",
   "execution_count": 3,
   "id": "bd0f43cb",
   "metadata": {},
   "outputs": [],
   "source": [
    "def Covert_String_To_Float(Anime_df):\n",
    "    df_copy = Anime_df.copy()\n",
    "    df_floats = Anime_df.copy()\n",
    "    #convert rank to float\n",
    "    df_copy[\"Rank\"] = df_copy[\"Rank\"].str.replace(\"/A\",\"$\")\n",
    "    value_nums = df_copy[df_copy[\"Rank\"]!=\"$\"]\n",
    "    value_str = df_copy[df_copy[\"Rank\"]==\"$\"]\n",
    "    value_nums[\"Rank\"] = value_nums[\"Rank\"].astype(float)\n",
    "    value_str[\"Rank\"] = value_str[\"Rank\"].replace(\"$\",(value_nums[\"Rank\"].mean()))\n",
    "    value_nums = value_nums.append(value_str)\n",
    "    df_floats[\"Rank\"] = value_nums[\"Rank\"].to_numpy()\n",
    "    #convert Edisodes to float\n",
    "    value_nums = df_copy.sort_values(\"Episodes\")\n",
    "    value_nums = df_copy[df_copy[\"Episodes\"] !=\"Unknown\"]\n",
    "    value_str = df_copy[df_copy[\"Episodes\"] ==\"Unknown\"]\n",
    "    value_nums[\"Episodes\"] = value_nums[\"Episodes\"].astype(float)\n",
    "    value_str[\"Episodes\"] = value_str[\"Episodes\"].replace(\"Unknown\",(value_nums[\"Episodes\"].mean()))\n",
    "    value_nums = value_nums.append(value_str)\n",
    "    df_floats[\"Episodes\"] = value_nums[\"Episodes\"].to_numpy()\n",
    "    #convert Duration to float\n",
    "    df_copy[\"Duration\"] = df_copy[\"Duration\"].str.replace(\" min. per ep.\",\"\")\n",
    "    df_copy[\"Duration\"] = df_copy[\"Duration\"].str.replace(\" min.\",\"\")\n",
    "    df_copy[\"Duration\"] = df_copy[\"Duration\"].str.replace(\" sec.\",\"\")\n",
    "    df_copy[\"Duration\"] = df_copy[\"Duration\"].str.replace(\" per ep.\",\"\")\n",
    "    value_nums = df_copy.sort_values(\"Duration\")\n",
    "    value_nums = df_copy[df_copy[\"Duration\"] !=\"Unknown\"]\n",
    "    value_str = df_copy[df_copy[\"Duration\"] ==\"Unknown\"]\n",
    "    value_nums[\"Duration\"] = value_nums[\"Duration\"].astype(float)\n",
    "    value_str[\"Duration\"] = value_str[\"Duration\"].replace(\"Unknown\",(value_nums[\"Duration\"].mean()))\n",
    "    value_nums = value_nums.append(value_str)\n",
    "    df_floats[\"Duration\"] = value_nums[\"Duration\"].to_numpy()\n",
    "    #convert Popularity to float\n",
    "    df_floats[\"Popularity\"] = df_floats[\"Popularity\"].str.replace(\"#\",\"\").astype(float)\n",
    "    #convert Members to float\n",
    "    df_floats[\"Members\"] = df_floats[\"Members\"].str.replace(\",\",\"\").astype(float)\n",
    "    #convert Favorites to float\n",
    "    df_floats[\"Favorites\"] = df_floats[\"Favorites\"].str.replace(\",\",\"\").astype(float)\n",
    "    \n",
    "    return df_floats.sort_values(\"Rank\")"
   ]
  },
  {
   "cell_type": "code",
   "execution_count": 4,
   "id": "d0ca425c",
   "metadata": {
    "scrolled": true
   },
   "outputs": [],
   "source": [
    "Anime_df = pd.read_csv(\"Anime_df_Full.csv\")\n",
    "#fixing columns names\n",
    "Anime_df = Anime_df.rename({\"English\":\"Anime_Name\",\"Score:\":\"Score\",\"Ranked:\":\"Rank\"}, axis=1)\n",
    "#sorting columns\n",
    "Anime_df = Anime_df[[\"Anime_Name\", \"Score\", \"Rank\", \"Scored_By\", \"Episodes\", \"Duration\", \"Popularity\", \"Members\", \"Favorites\", \"Status\", \"Genres\", \"Rating\", \"Source\", \"Aired\", \"Producers\", \"Studios\", \"Theme\", \"Synonyms\", \"Japanese\", \"French\", \"Type\", \"Premiered\", \"Broadcast\", \"Licensors\", \"Demographic\"]]\n",
    "#converting to objects and strings to floats\n",
    "Anime_df = Covert_String_To_Float(Anime_df)\n",
    "#filling missing values with mean and other values\n",
    "Anime_df[\"Scored_By\"] = Anime_df[\"Scored_By\"].fillna(Anime_df[\"Scored_By\"].mean())\n",
    "Anime_df[\"Score\"] = Anime_df[\"Score\"].fillna(Anime_df[\"Score\"].mean())\n",
    "Anime_df[\"Genres\"] = Anime_df[\"Genres\"].fillna(\"Unknown\")\n",
    "#dropping unnecessary columns\n",
    "Anime_df = Anime_df.drop(columns = [\"Theme\", \"Synonyms\", \"Japanese\", \"French\", \"Type\",\"Demographic\"])"
   ]
  },
  {
   "cell_type": "code",
   "execution_count": 5,
   "id": "2b812229",
   "metadata": {
    "scrolled": true
   },
   "outputs": [
    {
     "name": "stdout",
     "output_type": "stream",
     "text": [
      "<class 'pandas.core.frame.DataFrame'>\n",
      "Int64Index: 5559 entries, 0 to 5366\n",
      "Data columns (total 19 columns):\n",
      " #   Column      Non-Null Count  Dtype  \n",
      "---  ------      --------------  -----  \n",
      " 0   Anime_Name  5559 non-null   object \n",
      " 1   Score       5559 non-null   float64\n",
      " 2   Rank        5559 non-null   float64\n",
      " 3   Scored_By   5559 non-null   float64\n",
      " 4   Episodes    5559 non-null   float64\n",
      " 5   Duration    5559 non-null   float64\n",
      " 6   Popularity  5559 non-null   float64\n",
      " 7   Members     5559 non-null   float64\n",
      " 8   Favorites   5559 non-null   float64\n",
      " 9   Status      5559 non-null   object \n",
      " 10  Genres      5559 non-null   object \n",
      " 11  Rating      5559 non-null   object \n",
      " 12  Source      5559 non-null   object \n",
      " 13  Aired       5559 non-null   object \n",
      " 14  Producers   5559 non-null   object \n",
      " 15  Studios     5559 non-null   object \n",
      " 16  Premiered   5559 non-null   object \n",
      " 17  Broadcast   5559 non-null   object \n",
      " 18  Licensors   5559 non-null   object \n",
      "dtypes: float64(8), object(11)\n",
      "memory usage: 868.6+ KB\n"
     ]
    }
   ],
   "source": [
    "Anime_df.info()"
   ]
  },
  {
   "cell_type": "code",
   "execution_count": 31,
   "id": "f26fb67f",
   "metadata": {},
   "outputs": [
    {
     "data": {
      "text/plain": [
       "0     Aniplex,       Square Enix,       Mainichi Bro...\n",
       "1                 TV Tokyo,       Aniplex,       Dentsu\n",
       "2     Production I.G,       Dentsu,       Mainichi B...\n",
       "3     Frontier Works,       Media Factory,       Mov...\n",
       "4     TV Tokyo,       TV Osaka,       Nihon Ad Syste...\n",
       "5     TV Tokyo,       Aniplex,       Dentsu,       T...\n",
       "6     VAP,       Nippon Television Network,       Sh...\n",
       "7     TV Tokyo,       Aniplex,       Dentsu,       S...\n",
       "8     TV Tokyo,       Aniplex,       Dentsu,       S...\n",
       "9     Aniplex,       Dentsu,       NHK,       Hakuse...\n",
       "10    Pony Canyon,       TBS,       Rakuonsha,      ...\n",
       "11    TV Tokyo,       Aniplex,       Dentsu,       T...\n",
       "14    Bandai Visual,       Mainichi Broadcasting Sys...\n",
       "13                              Aniplex,       Kodansha\n",
       "12    Production I.G,       Dentsu,       Mainichi B...\n",
       "16    Production I.G,       Dentsu,       Mainichi B...\n",
       "15    TV Tokyo,       Aniplex,       Dentsu,       S...\n",
       "17    Aniplex,       Dentsu,       Fuji TV,       Ka...\n",
       "18    TV Tokyo,       Aniplex,       Dentsu,       S...\n",
       "19    Warner Bros. Japan,       KlockWorx,       BS ...\n",
       "20    VAP,       Shogakukan-Shueisha Productions,   ...\n",
       "21    Dentsu,       Mainichi Broadcasting System,   ...\n",
       "23      Aniplex,       Kodansha,       Cyclone Graphics\n",
       "22                                 None found, add some\n",
       "24            Pony Canyon,       Pony Canyon Enterprise\n",
       "26                                  NHK,       Shueisha\n",
       "25                                        Bandai Visual\n",
       "27    Mainichi Broadcasting System,       Kodansha, ...\n",
       "39                                 None found, add some\n",
       "29                                                  VAP\n",
       "Name: Producers, dtype: object"
      ]
     },
     "execution_count": 31,
     "metadata": {},
     "output_type": "execute_result"
    }
   ],
   "source": [
    "Anime_df.Producers.head(30)"
   ]
  },
  {
   "cell_type": "code",
   "execution_count": 7,
   "id": "3af8f51e",
   "metadata": {},
   "outputs": [],
   "source": [
    "Anime_df.to_csv(\"Anime_df_Full_Floats.csv\", index = False)"
   ]
  }
 ],
 "metadata": {
  "kernelspec": {
   "display_name": "Python 3",
   "language": "python",
   "name": "python3"
  },
  "language_info": {
   "codemirror_mode": {
    "name": "ipython",
    "version": 3
   },
   "file_extension": ".py",
   "mimetype": "text/x-python",
   "name": "python",
   "nbconvert_exporter": "python",
   "pygments_lexer": "ipython3",
   "version": "3.8.8"
  }
 },
 "nbformat": 4,
 "nbformat_minor": 5
}
